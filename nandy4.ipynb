{
 "cells": [
  {
   "cell_type": "code",
   "execution_count": 1,
   "id": "ad67087b-8fe7-48d1-a407-cd3b30a8f07b",
   "metadata": {},
   "outputs": [
    {
     "name": "stdout",
     "output_type": "stream",
     "text": [
      "Nandhini\n"
     ]
    }
   ],
   "source": [
    "name=(\"Nandhini\")\n",
    "print(name)"
   ]
  },
  {
   "cell_type": "code",
   "execution_count": 2,
   "id": "bdc439a8-1eed-46b4-b965-8f11ba565d79",
   "metadata": {},
   "outputs": [
    {
     "name": "stdout",
     "output_type": "stream",
     "text": [
      "[0, 1, 2, 3, 4]\n"
     ]
    }
   ],
   "source": [
    "list=[0,1,2,3,4]\n",
    "print(list)"
   ]
  },
  {
   "cell_type": "code",
   "execution_count": 5,
   "id": "4938ed8d-097f-487e-ae43-19871fa6dbdf",
   "metadata": {},
   "outputs": [
    {
     "name": "stdout",
     "output_type": "stream",
     "text": [
      "{'name': 'Nandy', 'age': 18, 'dept': 'IT'}\n"
     ]
    }
   ],
   "source": [
    "student={\"name\":\"Nandy\",\"age\":18,\"dept\":\"IT\"}\n",
    "print(student)"
   ]
  },
  {
   "cell_type": "code",
   "execution_count": 11,
   "id": "9884b05c-5cf5-495e-a375-e6efdbbef409",
   "metadata": {},
   "outputs": [
    {
     "name": "stdout",
     "output_type": "stream",
     "text": [
      "{'nandy', 100.1, 21}\n"
     ]
    }
   ],
   "source": [
    "ss={\"nandy\",21,100.1}\n",
    "print(ss)"
   ]
  },
  {
   "cell_type": "code",
   "execution_count": 12,
   "id": "4a28a0a9-a99e-4e9a-984c-e9ff798a5d5c",
   "metadata": {},
   "outputs": [
    {
     "name": "stdout",
     "output_type": "stream",
     "text": [
      "{'nandy', 20}\n"
     ]
    }
   ],
   "source": [
    "set_sample={'nandy',20}\n",
    "print(set_sample)"
   ]
  },
  {
   "cell_type": "code",
   "execution_count": 13,
   "id": "1ea23201-8bd1-414f-8484-9e819da769dd",
   "metadata": {},
   "outputs": [
    {
     "name": "stdout",
     "output_type": "stream",
     "text": [
      "<class 'set'>\n"
     ]
    }
   ],
   "source": [
    "print(type(set_sample))"
   ]
  },
  {
   "cell_type": "code",
   "execution_count": 14,
   "id": "3208167e-73f0-4b6d-8377-848a5de92fc8",
   "metadata": {},
   "outputs": [
    {
     "name": "stdout",
     "output_type": "stream",
     "text": [
      "[]\n"
     ]
    }
   ],
   "source": [
    "name=[]\n",
    "print(name)"
   ]
  },
  {
   "cell_type": "code",
   "execution_count": 16,
   "id": "236dd82f-3550-4c94-999c-bca767a4e159",
   "metadata": {},
   "outputs": [
    {
     "name": "stdout",
     "output_type": "stream",
     "text": [
      "[]\n"
     ]
    }
   ],
   "source": [
    "list1=[]\n",
    "print(list1)"
   ]
  },
  {
   "cell_type": "code",
   "execution_count": 19,
   "id": "65209814-ec4c-4c25-9e62-5ba807060210",
   "metadata": {},
   "outputs": [
    {
     "name": "stdout",
     "output_type": "stream",
     "text": [
      "{}\n"
     ]
    }
   ],
   "source": [
    "ssS={}\n",
    "print(ssS)"
   ]
  },
  {
   "cell_type": "code",
   "execution_count": 27,
   "id": "051586fb-8747-48f6-96bd-2e985c3028a6",
   "metadata": {},
   "outputs": [
    {
     "name": "stdout",
     "output_type": "stream",
     "text": [
      "()\n"
     ]
    }
   ],
   "source": [
    "ns=()\n",
    "print(ns)"
   ]
  },
  {
   "cell_type": "code",
   "execution_count": 28,
   "id": "36b33da1-797d-4fbf-8877-f9c6c13b8e77",
   "metadata": {},
   "outputs": [
    {
     "name": "stdout",
     "output_type": "stream",
     "text": [
      "type[()]\n"
     ]
    }
   ],
   "source": [
    "print(type[ns])"
   ]
  },
  {
   "cell_type": "code",
   "execution_count": 29,
   "id": "49d9118b-02dc-442d-9254-c009c9160ae6",
   "metadata": {},
   "outputs": [
    {
     "name": "stdout",
     "output_type": "stream",
     "text": [
      "<class 'tuple'>\n"
     ]
    }
   ],
   "source": [
    "print(t5ype(ns))"
   ]
  },
  {
   "cell_type": "code",
   "execution_count": 38,
   "id": "1ffb83dc-0590-4766-a358-93c95cc3a841",
   "metadata": {},
   "outputs": [
    {
     "name": "stdout",
     "output_type": "stream",
     "text": [
      "nandy\n"
     ]
    }
   ],
   "source": [
    "n=\"nandy baby\"\n",
    "print(n[0:5])"
   ]
  },
  {
   "cell_type": "code",
   "execution_count": 39,
   "id": "2858da8b-2c2d-46a8-9883-d4017d0c7bd9",
   "metadata": {},
   "outputs": [
    {
     "name": "stdout",
     "output_type": "stream",
     "text": [
      "nandy baby\n"
     ]
    }
   ],
   "source": [
    "print(n[0:])"
   ]
  },
  {
   "cell_type": "code",
   "execution_count": 40,
   "id": "88375219-4cec-4876-b98f-b850c1e01bf3",
   "metadata": {},
   "outputs": [
    {
     "name": "stdout",
     "output_type": "stream",
     "text": [
      "na\n"
     ]
    }
   ],
   "source": [
    "print(n[0:2])"
   ]
  },
  {
   "cell_type": "code",
   "execution_count": 41,
   "id": "60fd32d8-86ea-4a71-8366-efe6821bb70f",
   "metadata": {},
   "outputs": [
    {
     "name": "stdout",
     "output_type": "stream",
     "text": [
      "ybab ydnan\n"
     ]
    }
   ],
   "source": [
    "print(n[::-1])"
   ]
  },
  {
   "cell_type": "code",
   "execution_count": 46,
   "id": "bd62d030-b9dc-4903-b77f-08d598183d31",
   "metadata": {},
   "outputs": [
    {
     "name": "stdout",
     "output_type": "stream",
     "text": [
      "inihdnan\n"
     ]
    }
   ],
   "source": [
    "s=\"nandhini\"\n",
    "print(s[::-1])"
   ]
  },
  {
   "cell_type": "code",
   "execution_count": 47,
   "id": "c2ce0320-f5b4-4d9e-a30a-440ef7214124",
   "metadata": {},
   "outputs": [
    {
     "name": "stdout",
     "output_type": "stream",
     "text": [
      "nnhn\n"
     ]
    }
   ],
   "source": [
    "print(s[::2])"
   ]
  },
  {
   "cell_type": "code",
   "execution_count": 48,
   "id": "e5de073a-c609-46f6-8a81-037c9b1ed287",
   "metadata": {},
   "outputs": [
    {
     "name": "stdout",
     "output_type": "stream",
     "text": [
      "ndn\n"
     ]
    }
   ],
   "source": [
    "print(s[::3])"
   ]
  },
  {
   "cell_type": "code",
   "execution_count": null,
   "id": "391fc9f4-fcbd-4e0d-b4a2-05a1a89c3cf5",
   "metadata": {},
   "outputs": [],
   "source": []
  },
  {
   "cell_type": "code",
   "execution_count": null,
   "id": "4b100c23-6418-4db9-88c0-371c6a053723",
   "metadata": {},
   "outputs": [],
   "source": []
  }
 ],
 "metadata": {
  "kernelspec": {
   "display_name": "Python [conda env:base] *",
   "language": "python",
   "name": "conda-base-py"
  },
  "language_info": {
   "codemirror_mode": {
    "name": "ipython",
    "version": 3
   },
   "file_extension": ".py",
   "mimetype": "text/x-python",
   "name": "python",
   "nbconvert_exporter": "python",
   "pygments_lexer": "ipython3",
   "version": "3.13.5"
  }
 },
 "nbformat": 4,
 "nbformat_minor": 5
}

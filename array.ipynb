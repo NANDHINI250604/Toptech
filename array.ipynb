{
 "cells": [
  {
   "cell_type": "code",
   "execution_count": 6,
   "id": "68e40135-ffc0-45c6-a3c9-a3371eacca85",
   "metadata": {},
   "outputs": [],
   "source": [
    "import numpy as np\n",
    "a=np.array([1,2,3,4,5])"
   ]
  },
  {
   "cell_type": "code",
   "execution_count": 7,
   "id": "efbb9455-0fb8-4f0e-99dd-58a29e69ef6f",
   "metadata": {},
   "outputs": [
    {
     "name": "stdout",
     "output_type": "stream",
     "text": [
      "[1 2 3 4 5]\n"
     ]
    }
   ],
   "source": [
    "print(a)"
   ]
  },
  {
   "cell_type": "code",
   "execution_count": 8,
   "id": "23436924-f862-44ff-8f26-72f59b7f327e",
   "metadata": {},
   "outputs": [
    {
     "name": "stdout",
     "output_type": "stream",
     "text": [
      "[[1 2 3]\n",
      " [4 5 6]]\n"
     ]
    }
   ],
   "source": [
    "b=np.array([[1,2,3],[4,5,6]])\n",
    "print(b)"
   ]
  },
  {
   "cell_type": "code",
   "execution_count": 9,
   "id": "567fe8da-bcca-44db-ad93-62868070fba6",
   "metadata": {},
   "outputs": [
    {
     "name": "stdout",
     "output_type": "stream",
     "text": [
      "[[[[1 2 3]\n",
      "   [4 5 6]]\n",
      "\n",
      "  [[1 2 3]\n",
      "   [4 5 6]]]]\n"
     ]
    }
   ],
   "source": [
    "c=np.array([[[[1,2,3],[4,5,6]],[[1,2,3],[4,5,6]]]])\n",
    "print(c)"
   ]
  },
  {
   "cell_type": "code",
   "execution_count": 10,
   "id": "1eafec74-c6c8-48ed-bd18-5ca5ec85bedf",
   "metadata": {},
   "outputs": [
    {
     "name": "stdout",
     "output_type": "stream",
     "text": [
      "int64\n"
     ]
    }
   ],
   "source": [
    "import numpy as np\n",
    "a=np.array([1,2,3])\n",
    "print(a.dtype)"
   ]
  },
  {
   "cell_type": "code",
   "execution_count": 11,
   "id": "fa3be03d-85b3-42df-86a3-f23ead79d0c0",
   "metadata": {},
   "outputs": [
    {
     "name": "stdout",
     "output_type": "stream",
     "text": [
      "<U12\n"
     ]
    }
   ],
   "source": [
    "bike=np.array(['ktm','royalenfield','scooty'])\n",
    "print(bike.dtype)"
   ]
  },
  {
   "cell_type": "code",
   "execution_count": 12,
   "id": "dbe71389-b1f7-4ba1-ae24-7c61dada038e",
   "metadata": {},
   "outputs": [
    {
     "name": "stdout",
     "output_type": "stream",
     "text": [
      "int64\n"
     ]
    }
   ],
   "source": [
    "b=np.array([[1,2,3],[4,5,6]])\n",
    "print(b.dtype)"
   ]
  },
  {
   "cell_type": "code",
   "execution_count": 13,
   "id": "8d293878-e3b7-47f3-9bfb-0e6367b92576",
   "metadata": {},
   "outputs": [
    {
     "name": "stdout",
     "output_type": "stream",
     "text": [
      "<U5\n"
     ]
    }
   ],
   "source": [
    "w=np.array(['True','False'])\n",
    "print(w.dtype)"
   ]
  },
  {
   "cell_type": "code",
   "execution_count": 4,
   "id": "f1c7e333-92b6-449b-856b-363acedb1ba9",
   "metadata": {
    "scrolled": true
   },
   "outputs": [
    {
     "name": "stdout",
     "output_type": "stream",
     "text": [
      "      S.NO         NAME   AGE  GENDER PASS/FAIL  MARKS PERFORMANCE  CGPA  \\\n",
      "0      1.0  Gokul Patel  20.0  Female      Pass   68.0     Average   6.8   \n",
      "1      2.0       Om Raj  22.0  Female      Pass   64.0     Average   6.4   \n",
      "2      3.0    Uday Nair  22.0    Male      Pass   92.0   Excellent   9.2   \n",
      "3      4.0       Om Ali  21.0    Male      Pass   92.0   Excellent   9.2   \n",
      "4      5.0    Jaya Sree  20.0  Female      Pass   71.0        Good   7.1   \n",
      "..     ...          ...   ...     ...       ...    ...         ...   ...   \n",
      "96    97.0        RICKY  20.0    Male      Fail   21.0   very poor   4.0   \n",
      "97    98.0        SONA   20.0  Female      Fail   20.0   very poor   4.0   \n",
      "98    99.0         MONA  20.0  Female      Fail   12.0   very poor   4.0   \n",
      "99   100.0      DHARSHA  20.0    Male      Fail   11.0   very poor   4.0   \n",
      "100    NaN          NaN   NaN     NaN       NaN    NaN         NaN   NaN   \n",
      "\n",
      "         DEGREE                       COURSE ATTENDANCE  \n",
      "0    IIT Madras  Introduction to Programming        90%  \n",
      "1    IIT Madras              Data Structures        90%  \n",
      "2    IIT Madras                   Algorithms        90%  \n",
      "3    IIT Madras            Operating Systems        90%  \n",
      "4    IIT Madras            Computer Networks        90%  \n",
      "..          ...                          ...        ...  \n",
      "96    Reattempt        Programming Paradigms        43%  \n",
      "97    Reattempt            Technical Writing        23%  \n",
      "98    Reattempt            Code Optimization        43%  \n",
      "99    Reattempt   Freelancing for Developers        22%  \n",
      "100         NaN                          NaN        21%  \n",
      "\n",
      "[101 rows x 11 columns]\n"
     ]
    }
   ],
   "source": [
    "import pandas as pd\n",
    "data=pd.read_csv(r\"C:\\Users\\vn229\\OneDrive\\ドキュメント\\toptech\\Student.1csv.csv\")\n",
    "print(data)"
   ]
  },
  {
   "cell_type": "code",
   "execution_count": null,
   "id": "5425f205-659b-429f-b041-587b4b1a1bd9",
   "metadata": {},
   "outputs": [],
   "source": []
  }
 ],
 "metadata": {
  "kernelspec": {
   "display_name": "Python [conda env:base] *",
   "language": "python",
   "name": "conda-base-py"
  },
  "language_info": {
   "codemirror_mode": {
    "name": "ipython",
    "version": 3
   },
   "file_extension": ".py",
   "mimetype": "text/x-python",
   "name": "python",
   "nbconvert_exporter": "python",
   "pygments_lexer": "ipython3",
   "version": "3.13.5"
  }
 },
 "nbformat": 4,
 "nbformat_minor": 5
}
